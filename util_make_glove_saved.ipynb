{
 "cells": [
  {
   "cell_type": "code",
   "execution_count": 15,
   "metadata": {},
   "outputs": [],
   "source": [
    "from load_glove_840B_300d import *\n",
    "# from make_study_dictionary import *\n",
    "from dataset.dataset_utils import create_mimic_dictionary\n",
    "from load_custom_glove import *\n",
    "from get_word_embeddings import *\n",
    "import json"
   ]
  },
  {
   "cell_type": "code",
   "execution_count": 2,
   "metadata": {},
   "outputs": [
    {
     "name": "stdout",
     "output_type": "stream",
     "text": [
      "Loading Glove Model\n",
      "Done. 22044  words loaded!\n"
     ]
    }
   ],
   "source": [
    "glove_dict = main_get_word_embeddings()"
   ]
  },
  {
   "cell_type": "code",
   "execution_count": 8,
   "metadata": {},
   "outputs": [],
   "source": [
    "array_to_save = np.zeros((len(glove_dict.keys()), 300))\n",
    "current_ind = 0\n",
    "word2ind = {}\n",
    "ind2word = {}\n",
    "for word in sorted(glove_dict.keys()):\n",
    "    word_meaning = glove_dict[word]\n",
    "    array_to_save[current_ind] = word_meaning\n",
    "    word2ind[word] = current_ind\n",
    "    ind2word[str(current_ind)] = word\n",
    "    current_ind += 1"
   ]
  },
  {
   "cell_type": "code",
   "execution_count": 9,
   "metadata": {},
   "outputs": [],
   "source": [
    "np.save(\"glove_embed.npy\", array_to_save)"
   ]
  },
  {
   "cell_type": "code",
   "execution_count": 16,
   "metadata": {},
   "outputs": [],
   "source": [
    "with open('word2ind.json', 'w') as fp:\n",
    "    json.dump(word2ind, fp)"
   ]
  },
  {
   "cell_type": "code",
   "execution_count": 17,
   "metadata": {},
   "outputs": [],
   "source": [
    "with open('ind2word.json', 'w') as fp:\n",
    "    json.dump(ind2word, fp)"
   ]
  },
  {
   "cell_type": "code",
   "execution_count": null,
   "metadata": {},
   "outputs": [],
   "source": []
  }
 ],
 "metadata": {
  "kernelspec": {
   "display_name": "Python 3",
   "language": "python",
   "name": "python3"
  },
  "language_info": {
   "codemirror_mode": {
    "name": "ipython",
    "version": 3
   },
   "file_extension": ".py",
   "mimetype": "text/x-python",
   "name": "python",
   "nbconvert_exporter": "python",
   "pygments_lexer": "ipython3",
   "version": "3.8.5"
  }
 },
 "nbformat": 4,
 "nbformat_minor": 4
}
