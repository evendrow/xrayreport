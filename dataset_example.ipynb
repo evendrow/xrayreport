{
 "cells": [
  {
   "cell_type": "code",
   "execution_count": 1,
   "metadata": {},
   "outputs": [],
   "source": [
    "from get_matrix_from_cnn import *\n",
    "from image_feature_dataset import ImageFeatureDataset\n",
    "import os"
   ]
  },
  {
   "cell_type": "code",
   "execution_count": 2,
   "metadata": {},
   "outputs": [],
   "source": [
    "data_dir = \"../mimic_cxr\"\n",
    "image_list = [\n",
    "    \"p10/p10000032/s50414267/02aa804e-bde0afdd-112c0b34-7bc16630-4e384014.jpg\",\n",
    "    \"p10/p10000032/s50414267/174413ec-4ec4c1f7-34ea26b7-c5f994f8-79ef1962.jpg\",\n",
    "    \"p10/p10000032/s53189527/2a2277a9-b0ded155-c0de8eb9-c124d10e-82c5caab.jpg\",\n",
    "    \"p10/p10000032/s53189527/e084de3b-be89b11e-20fe3f9f-9c8d8dfe-4cfd202c.jpg\"\n",
    "]\n",
    "model_name = \"chexpert\"\n",
    "save_path = \"../mimic_feats\""
   ]
  },
  {
   "cell_type": "code",
   "execution_count": 3,
   "metadata": {},
   "outputs": [],
   "source": [
    "feat = extract_image_features(data_dir, image_list, model_name)\n",
    "save_feature_matrix(feat, image_list, save_path)"
   ]
  },
  {
   "cell_type": "code",
   "execution_count": 4,
   "metadata": {},
   "outputs": [
    {
     "data": {
      "text/plain": [
       "(4, 8, 8, 1024)"
      ]
     },
     "execution_count": 4,
     "metadata": {},
     "output_type": "execute_result"
    }
   ],
   "source": [
    "# should be NHWC\n",
    "feat.shape"
   ]
  },
  {
   "cell_type": "code",
   "execution_count": 5,
   "metadata": {},
   "outputs": [],
   "source": [
    "csv_dir = os.path.join(save_path, \"paths.csv\")\n",
    "feature_dataset = ImageFeatureDataset(csv_file=csv_dir,\n",
    "                                    root_dir=save_path)"
   ]
  },
  {
   "cell_type": "code",
   "execution_count": 12,
   "metadata": {},
   "outputs": [
    {
     "name": "stdout",
     "output_type": "stream",
     "text": [
      "index 0\n",
      "torch.Size([8])\n",
      "torch.Size([1024])\n",
      "index 1\n",
      "torch.Size([8])\n",
      "torch.Size([1024])\n",
      "index 2\n",
      "torch.Size([8])\n",
      "torch.Size([1024])\n",
      "index 3\n",
      "torch.Size([8])\n",
      "torch.Size([1024])\n"
     ]
    }
   ],
   "source": [
    "for i in range(len(feature_dataset)):\n",
    "    sample = feature_dataset[i]\n",
    "    print(\"index\", i)\n",
    "    print(sample[00].shape)\n",
    "    print(torch.Tensor(feat[i][0][0]).shape)"
   ]
  },
  {
   "cell_type": "code",
   "execution_count": null,
   "metadata": {},
   "outputs": [],
   "source": []
  }
 ],
 "metadata": {
  "kernelspec": {
   "display_name": "Python 3",
   "language": "python",
   "name": "python3"
  },
  "language_info": {
   "codemirror_mode": {
    "name": "ipython",
    "version": 3
   },
   "file_extension": ".py",
   "mimetype": "text/x-python",
   "name": "python",
   "nbconvert_exporter": "python",
   "pygments_lexer": "ipython3",
   "version": "3.8.5"
  }
 },
 "nbformat": 4,
 "nbformat_minor": 4
}
