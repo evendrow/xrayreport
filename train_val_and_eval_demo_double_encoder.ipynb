{
 "cells": [
  {
   "cell_type": "code",
   "execution_count": 1,
   "metadata": {},
   "outputs": [],
   "source": [
    "import numpy as np\n",
    "import time\n",
    "import sys\n",
    "import os\n",
    "import tqdm\n",
    "\n",
    "import torch\n",
    "from torch import nn\n",
    "import torch.nn.functional as F\n",
    "\n",
    "\n",
    "from catr.configuration import Config\n",
    "from catr.models.utils import NestedTensor, nested_tensor_from_tensor_list, get_rank\n",
    "from catr.models.backbone import build_backbone\n",
    "from catr.models.transformer_double_encoder import build_transformer_double_encoder\n",
    "from catr.models.position_encoding import PositionEmbeddingSine\n",
    "from catr.models.caption import MLP\n",
    "\n",
    "import json\n",
    "\n",
    "from dataset.dataset import ImageDoubleFeatureDataset\n",
    "from torch.utils.data import DataLoader\n",
    "from transformer_ethan_double_encoder import *\n",
    "sys.path.append(os.path.join(os.path.dirname(\"__file__\"), \"catr\"))\n",
    "from engine_double_encoder import train_one_epoch_double_encoder, evaluate_double_encoder"
   ]
  },
  {
   "cell_type": "code",
   "execution_count": 2,
   "metadata": {},
   "outputs": [],
   "source": [
    "# Load Word Embeddings\n",
    "words = np.load(\"glove_embed.npy\")\n",
    "with open('word2ind.json') as json_file: \n",
    "    word2ind = json.load(json_file) \n",
    "with open('ind2word.json') as json_file: \n",
    "    ind2word = json.load(json_file) \n",
    "    \n",
    "# Set up config file\n",
    "config = Config()\n",
    "config.device = 'cpu' # if running without GPU\n",
    "config.feature_dim = 1024\n",
    "config.pad_token_id = word2ind[\"<S>\"]\n",
    "config.hidden_dim = 300\n",
    "config.nheads = 10\n",
    "config.batch_size = 16\n",
    "config.vocab_size = words.shape[0]\n",
    "config.dir = '../mimic_features_double'\n",
    "config.__dict__[\"pre_embed\"] = torch.from_numpy(words)\n",
    "config.__dict__[\"encoder_type\"] = 2"
   ]
  },
  {
   "cell_type": "code",
   "execution_count": 3,
   "metadata": {},
   "outputs": [
    {
     "name": "stdout",
     "output_type": "stream",
     "text": [
      "Initializing Device: cpu\n",
      "Number of params: 46358432\n"
     ]
    }
   ],
   "source": [
    "model, criterion = main(config)\n",
    "model = model.float()\n",
    "device = torch.device(config.device)\n",
    "model.to(device)\n",
    "\n",
    "param_dicts = [\n",
    "    {\"params\": [p for n, p in model.named_parameters(\n",
    "    ) if \"backbone\" not in n and p.requires_grad]},\n",
    "    {\n",
    "        \"params\": [p for n, p in model.named_parameters() if \"backbone\" in n and p.requires_grad],\n",
    "        \"lr\": config.lr_backbone,\n",
    "    },\n",
    "]"
   ]
  },
  {
   "cell_type": "code",
   "execution_count": 4,
   "metadata": {},
   "outputs": [],
   "source": [
    "optimizer = torch.optim.AdamW(\n",
    "        param_dicts, lr=config.lr, weight_decay=config.weight_decay)\n",
    "lr_scheduler = torch.optim.lr_scheduler.StepLR(optimizer, config.lr_drop)"
   ]
  },
  {
   "cell_type": "code",
   "execution_count": 5,
   "metadata": {},
   "outputs": [
    {
     "name": "stdout",
     "output_type": "stream",
     "text": [
      "Train: 128\n",
      "Val: 128\n"
     ]
    }
   ],
   "source": [
    "dataset_train = ImageDoubleFeatureDataset(config, mode='train')\n",
    "dataset_val = ImageDoubleFeatureDataset(config, mode='val')\n",
    "\n",
    "sampler_train = torch.utils.data.RandomSampler(dataset_train)\n",
    "sampler_val = torch.utils.data.SequentialSampler(dataset_val)\n",
    "\n",
    "batch_sampler_train = torch.utils.data.BatchSampler(\n",
    "        sampler_train, config.batch_size, drop_last=True)\n",
    "\n",
    "data_loader_train = DataLoader(\n",
    "        dataset_train, batch_sampler=batch_sampler_train, num_workers=config.num_workers)\n",
    "data_loader_val = DataLoader(dataset_val, config.batch_size,\n",
    "                                 sampler=sampler_val, drop_last=False, num_workers=config.num_workers)\n",
    "print(f\"Train: {len(dataset_train)}\")\n",
    "print(f\"Val: {len(dataset_val)}\")"
   ]
  },
  {
   "cell_type": "code",
   "execution_count": 6,
   "metadata": {},
   "outputs": [
    {
     "name": "stdout",
     "output_type": "stream",
     "text": [
      "Start Training..\n"
     ]
    }
   ],
   "source": [
    "'''\n",
    "if os.path.exists(config.checkpoint):\n",
    "    print(\"Loading Checkpoint...\")\n",
    "    checkpoint = torch.load(config.checkpoint, map_location='cpu')\n",
    "    model.load_state_dict(checkpoint['model'])\n",
    "    optimizer.load_state_dict(checkpoint['optimizer'])\n",
    "    lr_scheduler.load_state_dict(checkpoint['lr_scheduler'])\n",
    "    config.start_epoch = checkpoint['epoch'] + 1\n",
    "'''\n",
    "print(\"Start Training..\")"
   ]
  },
  {
   "cell_type": "code",
   "execution_count": 7,
   "metadata": {},
   "outputs": [
    {
     "name": "stderr",
     "output_type": "stream",
     "text": [
      "\r",
      "  0%|          | 0/8 [00:00<?, ?it/s]"
     ]
    },
    {
     "name": "stdout",
     "output_type": "stream",
     "text": [
      "Epoch: 0\n"
     ]
    },
    {
     "name": "stderr",
     "output_type": "stream",
     "text": [
      "100%|██████████| 8/8 [01:12<00:00,  9.06s/it]\n",
      "  0%|          | 0/8 [00:00<?, ?it/s]"
     ]
    },
    {
     "name": "stdout",
     "output_type": "stream",
     "text": [
      "Training Loss: 9.390686988830566\n",
      "\n",
      "Epoch: 1\n"
     ]
    },
    {
     "name": "stderr",
     "output_type": "stream",
     "text": [
      "100%|██████████| 8/8 [01:11<00:00,  8.96s/it]\n",
      "  0%|          | 0/8 [00:00<?, ?it/s]"
     ]
    },
    {
     "name": "stdout",
     "output_type": "stream",
     "text": [
      "Training Loss: 8.355441451072693\n",
      "\n",
      "Epoch: 2\n"
     ]
    },
    {
     "name": "stderr",
     "output_type": "stream",
     "text": [
      "100%|██████████| 8/8 [01:16<00:00,  9.54s/it]\n",
      "  0%|          | 0/8 [00:00<?, ?it/s]"
     ]
    },
    {
     "name": "stdout",
     "output_type": "stream",
     "text": [
      "Training Loss: 7.113301336765289\n",
      "\n",
      "Epoch: 3\n"
     ]
    },
    {
     "name": "stderr",
     "output_type": "stream",
     "text": [
      "100%|██████████| 8/8 [01:15<00:00,  9.49s/it]\n",
      "  0%|          | 0/8 [00:00<?, ?it/s]"
     ]
    },
    {
     "name": "stdout",
     "output_type": "stream",
     "text": [
      "Training Loss: 5.486894488334656\n",
      "\n",
      "Epoch: 4\n"
     ]
    },
    {
     "name": "stderr",
     "output_type": "stream",
     "text": [
      "100%|██████████| 8/8 [01:13<00:00,  9.22s/it]\n",
      "  0%|          | 0/8 [00:00<?, ?it/s]"
     ]
    },
    {
     "name": "stdout",
     "output_type": "stream",
     "text": [
      "Training Loss: 4.62146532535553\n",
      "\n",
      "Epoch: 5\n"
     ]
    },
    {
     "name": "stderr",
     "output_type": "stream",
     "text": [
      "100%|██████████| 8/8 [01:15<00:00,  9.42s/it]\n",
      "  0%|          | 0/8 [00:00<?, ?it/s]"
     ]
    },
    {
     "name": "stdout",
     "output_type": "stream",
     "text": [
      "Training Loss: 4.0830230712890625\n",
      "\n",
      "Epoch: 6\n"
     ]
    },
    {
     "name": "stderr",
     "output_type": "stream",
     "text": [
      "100%|██████████| 8/8 [01:15<00:00,  9.38s/it]\n",
      "  0%|          | 0/8 [00:00<?, ?it/s]"
     ]
    },
    {
     "name": "stdout",
     "output_type": "stream",
     "text": [
      "Training Loss: 3.497657001018524\n",
      "\n",
      "Epoch: 7\n"
     ]
    },
    {
     "name": "stderr",
     "output_type": "stream",
     "text": [
      "100%|██████████| 8/8 [01:15<00:00,  9.48s/it]\n",
      "  0%|          | 0/8 [00:00<?, ?it/s]"
     ]
    },
    {
     "name": "stdout",
     "output_type": "stream",
     "text": [
      "Training Loss: 2.9087489545345306\n",
      "\n",
      "Epoch: 8\n"
     ]
    },
    {
     "name": "stderr",
     "output_type": "stream",
     "text": [
      "100%|██████████| 8/8 [01:15<00:00,  9.43s/it]\n",
      "  0%|          | 0/8 [00:00<?, ?it/s]"
     ]
    },
    {
     "name": "stdout",
     "output_type": "stream",
     "text": [
      "Training Loss: 2.525684803724289\n",
      "\n",
      "Epoch: 9\n"
     ]
    },
    {
     "name": "stderr",
     "output_type": "stream",
     "text": [
      "100%|██████████| 8/8 [01:15<00:00,  9.38s/it]\n",
      "  0%|          | 0/8 [00:00<?, ?it/s]"
     ]
    },
    {
     "name": "stdout",
     "output_type": "stream",
     "text": [
      "Training Loss: 2.0941342413425446\n",
      "\n",
      "Epoch: 10\n"
     ]
    },
    {
     "name": "stderr",
     "output_type": "stream",
     "text": [
      "100%|██████████| 8/8 [01:14<00:00,  9.29s/it]\n",
      "  0%|          | 0/8 [00:00<?, ?it/s]"
     ]
    },
    {
     "name": "stdout",
     "output_type": "stream",
     "text": [
      "Training Loss: 1.8209930211305618\n",
      "\n",
      "Epoch: 11\n"
     ]
    },
    {
     "name": "stderr",
     "output_type": "stream",
     "text": [
      "100%|██████████| 8/8 [01:15<00:00,  9.42s/it]\n",
      "  0%|          | 0/8 [00:00<?, ?it/s]"
     ]
    },
    {
     "name": "stdout",
     "output_type": "stream",
     "text": [
      "Training Loss: 1.5118537843227386\n",
      "\n",
      "Epoch: 12\n"
     ]
    },
    {
     "name": "stderr",
     "output_type": "stream",
     "text": [
      "100%|██████████| 8/8 [01:15<00:00,  9.42s/it]\n",
      "  0%|          | 0/8 [00:00<?, ?it/s]"
     ]
    },
    {
     "name": "stdout",
     "output_type": "stream",
     "text": [
      "Training Loss: 1.1398151218891144\n",
      "\n",
      "Epoch: 13\n"
     ]
    },
    {
     "name": "stderr",
     "output_type": "stream",
     "text": [
      "100%|██████████| 8/8 [01:14<00:00,  9.36s/it]\n",
      "  0%|          | 0/8 [00:00<?, ?it/s]"
     ]
    },
    {
     "name": "stdout",
     "output_type": "stream",
     "text": [
      "Training Loss: 0.7704932317137718\n",
      "\n",
      "Epoch: 14\n"
     ]
    },
    {
     "name": "stderr",
     "output_type": "stream",
     "text": [
      "100%|██████████| 8/8 [01:14<00:00,  9.31s/it]\n",
      "  0%|          | 0/8 [00:00<?, ?it/s]"
     ]
    },
    {
     "name": "stdout",
     "output_type": "stream",
     "text": [
      "Training Loss: 0.4469180144369602\n",
      "\n",
      "Epoch: 15\n"
     ]
    },
    {
     "name": "stderr",
     "output_type": "stream",
     "text": [
      "100%|██████████| 8/8 [01:14<00:00,  9.37s/it]\n",
      "  0%|          | 0/8 [00:00<?, ?it/s]"
     ]
    },
    {
     "name": "stdout",
     "output_type": "stream",
     "text": [
      "Training Loss: 0.2097095102071762\n",
      "\n",
      "Epoch: 16\n"
     ]
    },
    {
     "name": "stderr",
     "output_type": "stream",
     "text": [
      "100%|██████████| 8/8 [01:14<00:00,  9.31s/it]\n",
      "  0%|          | 0/8 [00:00<?, ?it/s]"
     ]
    },
    {
     "name": "stdout",
     "output_type": "stream",
     "text": [
      "Training Loss: 0.07641982519999146\n",
      "\n",
      "Epoch: 17\n"
     ]
    },
    {
     "name": "stderr",
     "output_type": "stream",
     "text": [
      "100%|██████████| 8/8 [01:14<00:00,  9.31s/it]\n",
      "  0%|          | 0/8 [00:00<?, ?it/s]"
     ]
    },
    {
     "name": "stdout",
     "output_type": "stream",
     "text": [
      "Training Loss: 0.02248899615369737\n",
      "\n",
      "Epoch: 18\n"
     ]
    },
    {
     "name": "stderr",
     "output_type": "stream",
     "text": [
      "100%|██████████| 8/8 [01:14<00:00,  9.29s/it]\n",
      "  0%|          | 0/8 [00:00<?, ?it/s]"
     ]
    },
    {
     "name": "stdout",
     "output_type": "stream",
     "text": [
      "Training Loss: 0.007026082661468536\n",
      "\n",
      "Epoch: 19\n"
     ]
    },
    {
     "name": "stderr",
     "output_type": "stream",
     "text": [
      "100%|██████████| 8/8 [01:16<00:00,  9.50s/it]"
     ]
    },
    {
     "name": "stdout",
     "output_type": "stream",
     "text": [
      "Training Loss: 0.003099758498137817\n",
      "\n"
     ]
    },
    {
     "name": "stderr",
     "output_type": "stream",
     "text": [
      "\n"
     ]
    }
   ],
   "source": [
    "train_loss_hist = []\n",
    "val_loss_hist = []\n",
    "\n",
    "for epoch in range(config.start_epoch, 20):\n",
    "    print(f\"Epoch: {epoch}\")\n",
    "    epoch_loss = train_one_epoch_double_encoder(\n",
    "        model, criterion, data_loader_train, optimizer, device, epoch, config.clip_max_norm)\n",
    "    train_loss_hist.append(epoch_loss)\n",
    "    lr_scheduler.step()\n",
    "    print(f\"Training Loss: {epoch_loss}\")\n",
    "    '''\n",
    "    torch.save({\n",
    "        'model': model.state_dict(),\n",
    "        'optimizer': optimizer.state_dict(),\n",
    "        'lr_scheduler': lr_scheduler.state_dict(),\n",
    "        'epoch': epoch,\n",
    "    }, config.checkpoint)\n",
    "\n",
    "    validation_loss = evaluate_double_encoder(model, criterion, data_loader_val, device)\n",
    "    val_loss_hist.append(validation_loss)\n",
    "    print(f\"Validation Loss: {validation_loss}\")\n",
    "    '''\n",
    "    print()"
   ]
  },
  {
   "cell_type": "code",
   "execution_count": 8,
   "metadata": {},
   "outputs": [
    {
     "data": {
      "image/png": "[encoded data removed]",
      "text/plain": [
       "<Figure size 432x288 with 1 Axes>"
      ]
     },
     "metadata": {
      "needs_background": "light"
     },
     "output_type": "display_data"
    }
   ],
   "source": [
    "from matplotlib import pyplot as plt\n",
    "plt.plot(train_loss_hist)\n",
    "plt.show()"
   ]
  },
  {
   "cell_type": "markdown",
   "metadata": {},
   "source": [
    "# Evaluation helper funcs"
   ]
  },
  {
   "cell_type": "code",
   "execution_count": 9,
   "metadata": {},
   "outputs": [],
   "source": [
    "# Edward: note this makes a new caption as (<S>, 0, ..., 0) shouldn't we want as (<S>, <S>, ..., <S>)?\n",
    "def create_caption_and_mask(start_token, max_length):\n",
    "    caption_template = torch.zeros((1, max_length), dtype=torch.long)\n",
    "    mask_template = torch.ones((1, max_length), dtype=torch.bool)\n",
    "\n",
    "    caption_template[:, 0] = start_token\n",
    "    mask_template[:, 0] = False\n",
    "\n",
    "    return caption_template, mask_template"
   ]
  },
  {
   "cell_type": "code",
   "execution_count": 10,
   "metadata": {},
   "outputs": [],
   "source": [
    "def make_report(captions):\n",
    "    all_reports = []\n",
    "    for report in captions:\n",
    "        if (report == word2ind[\"</s>\"]).any():\n",
    "            end_index = (report == word2ind[\"</s>\"]).nonzero()[0][0]\n",
    "            report = report[:end_index+1]\n",
    "        one_report = list(map(lambda x: ind2word[str(x)], report))\n",
    "        all_reports.append(one_report)\n",
    "    return all_reports\n",
    "\n",
    "def reports_to_sentence(reports):\n",
    "    return [' '.join(r) for r in make_report(reports)]"
   ]
  },
  {
   "cell_type": "code",
   "execution_count": 11,
   "metadata": {},
   "outputs": [],
   "source": [
    "def evaluate(images):\n",
    "    all_captions = []\n",
    "    model.eval()\n",
    "    for i in range(len(images[0])):\n",
    "        image1 = images[0][i:i+1]\n",
    "        image2 = images[1][i:i+1]\n",
    "        caption, cap_mask = create_caption_and_mask(\n",
    "            config.pad_token_id, config.max_position_embeddings)\n",
    "        for i in range(config.max_position_embeddings - 1):\n",
    "            predictions = model(image1, image2, caption, cap_mask)\n",
    "            predictions = predictions[:, i, :]\n",
    "            predicted_id = torch.argmax(predictions, axis=-1)\n",
    "\n",
    "\n",
    "            caption[:, i+1] = predicted_id[0]\n",
    "            cap_mask[:, i+1] = False\n",
    "            \n",
    "            if predicted_id[0] == word2ind[\"</s>\"]:\n",
    "                break\n",
    "\n",
    "        all_captions.append(caption.numpy())\n",
    "#     return make_report(all_captions)\n",
    "    return all_captions"
   ]
  },
  {
   "cell_type": "code",
   "execution_count": 12,
   "metadata": {},
   "outputs": [],
   "source": [
    "image, note, note_mask = next(iter(data_loader_train))"
   ]
  },
  {
   "cell_type": "code",
   "execution_count": null,
   "metadata": {},
   "outputs": [],
   "source": [
    "report = evaluate(image)"
   ]
  },
  {
   "cell_type": "code",
   "execution_count": null,
   "metadata": {},
   "outputs": [],
   "source": [
    "report_np = np.asarray(report).squeeze(1)\n",
    "reports_to_sentence(report_np)"
   ]
  },
  {
   "cell_type": "code",
   "execution_count": 23,
   "metadata": {},
   "outputs": [
    {
     "data": {
      "text/plain": [
       "['<S> There is no focal consolidation , pleural effusion or pneumothorax . <s> Bilateral nodular opacities that most likely represent nipple shadows . <s> The cardiomediastinal silhouette is normal . <s> Clips project over the left lung , potentially within the breast . <s> The imaged upper abdomen is unremarkable . <s> Chronic deformity of the posterior left sixth and seventh ribs are noted . <s> </s>',\n",
       " '<S> There is no focal consolidation , pleural effusion or pneumothorax . <s> Bilateral nodular opacities that most likely represent nipple shadows . <s> The cardiomediastinal silhouette is normal . <s> Clips project over the left lung , potentially within the breast . <s> The imaged upper abdomen is unremarkable . <s> Chronic deformity of the posterior left sixth and seventh ribs are noted . <s> </s>',\n",
       " '<S> There is no focal consolidation , pleural effusion or pneumothorax . <s> Bilateral nodular opacities that most likely represent nipple shadows . <s> The cardiomediastinal silhouette is normal . <s> Clips project over the left lung , potentially within the breast . <s> The imaged upper abdomen is unremarkable . <s> Chronic deformity of the posterior left sixth and seventh ribs are noted . <s> </s>',\n",
       " '<S> There is no focal consolidation , pleural effusion or pneumothorax . <s> Bilateral nodular opacities that most likely represent nipple shadows . <s> The cardiomediastinal silhouette is normal . <s> Clips project over the left lung , potentially within the breast . <s> The imaged upper abdomen is unremarkable . <s> Chronic deformity of the posterior left sixth and seventh ribs are noted . <s> </s>',\n",
       " '<S> There is no focal consolidation , pleural effusion or pneumothorax . <s> Bilateral nodular opacities that most likely represent nipple shadows . <s> The cardiomediastinal silhouette is normal . <s> Clips project over the left lung , potentially within the breast . <s> The imaged upper abdomen is unremarkable . <s> Chronic deformity of the posterior left sixth and seventh ribs are noted . <s> </s>',\n",
       " '<S> There is no focal consolidation , pleural effusion or pneumothorax . <s> Bilateral nodular opacities that most likely represent nipple shadows . <s> The cardiomediastinal silhouette is normal . <s> Clips project over the left lung , potentially within the breast . <s> The imaged upper abdomen is unremarkable . <s> Chronic deformity of the posterior left sixth and seventh ribs are noted . <s> </s>',\n",
       " '<S> There is no focal consolidation , pleural effusion or pneumothorax . <s> Bilateral nodular opacities that most likely represent nipple shadows . <s> The cardiomediastinal silhouette is normal . <s> Clips project over the left lung , potentially within the breast . <s> The imaged upper abdomen is unremarkable . <s> Chronic deformity of the posterior left sixth and seventh ribs are noted . <s> </s>',\n",
       " '<S> There is no focal consolidation , pleural effusion or pneumothorax . <s> Bilateral nodular opacities that most likely represent nipple shadows . <s> The cardiomediastinal silhouette is normal . <s> Clips project over the left lung , potentially within the breast . <s> The imaged upper abdomen is unremarkable . <s> Chronic deformity of the posterior left sixth and seventh ribs are noted . <s> </s>',\n",
       " '<S> There is no focal consolidation , pleural effusion or pneumothorax . <s> Bilateral nodular opacities that most likely represent nipple shadows . <s> The cardiomediastinal silhouette is normal . <s> Clips project over the left lung , potentially within the breast . <s> The imaged upper abdomen is unremarkable . <s> Chronic deformity of the posterior left sixth and seventh ribs are noted . <s> </s>',\n",
       " '<S> There is no focal consolidation , pleural effusion or pneumothorax . <s> Bilateral nodular opacities that most likely represent nipple shadows . <s> The cardiomediastinal silhouette is normal . <s> Clips project over the left lung , potentially within the breast . <s> The imaged upper abdomen is unremarkable . <s> Chronic deformity of the posterior left sixth and seventh ribs are noted . <s> </s>',\n",
       " '<S> There is no focal consolidation , pleural effusion or pneumothorax . <s> Bilateral nodular opacities that most likely represent nipple shadows . <s> The cardiomediastinal silhouette is normal . <s> Clips project over the left lung , potentially within the breast . <s> The imaged upper abdomen is unremarkable . <s> Chronic deformity of the posterior left sixth and seventh ribs are noted . <s> </s>',\n",
       " '<S> There is no focal consolidation , pleural effusion or pneumothorax . <s> Bilateral nodular opacities that most likely represent nipple shadows . <s> The cardiomediastinal silhouette is normal . <s> Clips project over the left lung , potentially within the breast . <s> The imaged upper abdomen is unremarkable . <s> Chronic deformity of the posterior left sixth and seventh ribs are noted . <s> </s>',\n",
       " '<S> There is no focal consolidation , pleural effusion or pneumothorax . <s> Bilateral nodular opacities that most likely represent nipple shadows . <s> The cardiomediastinal silhouette is normal . <s> Clips project over the left lung , potentially within the breast . <s> The imaged upper abdomen is unremarkable . <s> Chronic deformity of the posterior left sixth and seventh ribs are noted . <s> </s>',\n",
       " '<S> There is no focal consolidation , pleural effusion or pneumothorax . <s> Bilateral nodular opacities that most likely represent nipple shadows . <s> The cardiomediastinal silhouette is normal . <s> Clips project over the left lung , potentially within the breast . <s> The imaged upper abdomen is unremarkable . <s> Chronic deformity of the posterior left sixth and seventh ribs are noted . <s> </s>',\n",
       " '<S> There is no focal consolidation , pleural effusion or pneumothorax . <s> Bilateral nodular opacities that most likely represent nipple shadows . <s> The cardiomediastinal silhouette is normal . <s> Clips project over the left lung , potentially within the breast . <s> The imaged upper abdomen is unremarkable . <s> Chronic deformity of the posterior left sixth and seventh ribs are noted . <s> </s>',\n",
       " '<S> There is no focal consolidation , pleural effusion or pneumothorax . <s> Bilateral nodular opacities that most likely represent nipple shadows . <s> The cardiomediastinal silhouette is normal . <s> Clips project over the left lung , potentially within the breast . <s> The imaged upper abdomen is unremarkable . <s> Chronic deformity of the posterior left sixth and seventh ribs are noted . <s> </s>']"
      ]
     },
     "execution_count": 23,
     "metadata": {},
     "output_type": "execute_result"
    }
   ],
   "source": [
    "reports_to_sentence(np.asarray(note))"
   ]
  },
  {
   "cell_type": "code",
   "execution_count": null,
   "metadata": {},
   "outputs": [],
   "source": []
  },
  {
   "cell_type": "code",
   "execution_count": null,
   "metadata": {},
   "outputs": [],
   "source": []
  },
  {
   "cell_type": "code",
   "execution_count": null,
   "metadata": {},
   "outputs": [],
   "source": []
  },
  {
   "cell_type": "code",
   "execution_count": null,
   "metadata": {},
   "outputs": [],
   "source": []
  }
 ],
 "metadata": {
  "kernelspec": {
   "display_name": "Python 3",
   "language": "python",
   "name": "python3"
  },
  "language_info": {
   "codemirror_mode": {
    "name": "ipython",
    "version": 3
   },
   "file_extension": ".py",
   "mimetype": "text/x-python",
   "name": "python",
   "nbconvert_exporter": "python",
   "pygments_lexer": "ipython3",
   "version": "3.8.5"
  }
 },
 "nbformat": 4,
 "nbformat_minor": 4
}
